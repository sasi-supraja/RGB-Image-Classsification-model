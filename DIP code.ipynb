{
 "cells": [
  {
   "cell_type": "markdown",
   "id": "49f4bcf2",
   "metadata": {},
   "source": [
    "## 1. Importing libraries"
   ]
  },
  {
   "cell_type": "code",
   "execution_count": 18,
   "id": "9873dfab",
   "metadata": {},
   "outputs": [],
   "source": [
    "import pandas as pd\n",
    "import numpy as np\n",
    "from sklearn.model_selection import train_test_split\n",
    "from tensorflow.keras.utils import to_categorical\n",
    "import tensorflow as tf\n",
    "from tensorflow.keras import layers, models"
   ]
  },
  {
   "cell_type": "markdown",
   "id": "02e2bc34",
   "metadata": {},
   "source": [
    "### Importing Data and labels"
   ]
  },
  {
   "cell_type": "code",
   "execution_count": 19,
   "id": "4c4d5691",
   "metadata": {},
   "outputs": [],
   "source": [
    "dataset=pd.read_csv(r\"C:\\Users\\HP\\Downloads\\Image classification\\Data.csv\")\n",
    "y=pd.read_csv(r\"C:\\Users\\HP\\Downloads\\Image classification\\classLabel.csv\")"
   ]
  },
  {
   "cell_type": "code",
   "execution_count": 20,
   "id": "ac9ee4ed",
   "metadata": {
    "scrolled": true
   },
   "outputs": [
    {
     "data": {
      "text/html": [
       "<div>\n",
       "<style scoped>\n",
       "    .dataframe tbody tr th:only-of-type {\n",
       "        vertical-align: middle;\n",
       "    }\n",
       "\n",
       "    .dataframe tbody tr th {\n",
       "        vertical-align: top;\n",
       "    }\n",
       "\n",
       "    .dataframe thead th {\n",
       "        text-align: right;\n",
       "    }\n",
       "</style>\n",
       "<table border=\"1\" class=\"dataframe\">\n",
       "  <thead>\n",
       "    <tr style=\"text-align: right;\">\n",
       "      <th></th>\n",
       "      <th>59</th>\n",
       "      <th>43</th>\n",
       "      <th>50</th>\n",
       "      <th>68</th>\n",
       "      <th>98</th>\n",
       "      <th>119</th>\n",
       "      <th>139</th>\n",
       "      <th>145</th>\n",
       "      <th>149</th>\n",
       "      <th>149.1</th>\n",
       "      <th>...</th>\n",
       "      <th>59.21</th>\n",
       "      <th>58.21</th>\n",
       "      <th>65.19</th>\n",
       "      <th>59.22</th>\n",
       "      <th>46.22</th>\n",
       "      <th>57.27</th>\n",
       "      <th>104.16</th>\n",
       "      <th>140.19</th>\n",
       "      <th>84.21</th>\n",
       "      <th>72.15</th>\n",
       "    </tr>\n",
       "  </thead>\n",
       "  <tbody>\n",
       "    <tr>\n",
       "      <th>0</th>\n",
       "      <td>154</td>\n",
       "      <td>126</td>\n",
       "      <td>105</td>\n",
       "      <td>102</td>\n",
       "      <td>125</td>\n",
       "      <td>155</td>\n",
       "      <td>172</td>\n",
       "      <td>180</td>\n",
       "      <td>142</td>\n",
       "      <td>111</td>\n",
       "      <td>...</td>\n",
       "      <td>22</td>\n",
       "      <td>42</td>\n",
       "      <td>67</td>\n",
       "      <td>101</td>\n",
       "      <td>122</td>\n",
       "      <td>133</td>\n",
       "      <td>136</td>\n",
       "      <td>139</td>\n",
       "      <td>142</td>\n",
       "      <td>144</td>\n",
       "    </tr>\n",
       "    <tr>\n",
       "      <th>1</th>\n",
       "      <td>255</td>\n",
       "      <td>253</td>\n",
       "      <td>253</td>\n",
       "      <td>253</td>\n",
       "      <td>253</td>\n",
       "      <td>253</td>\n",
       "      <td>253</td>\n",
       "      <td>253</td>\n",
       "      <td>253</td>\n",
       "      <td>253</td>\n",
       "      <td>...</td>\n",
       "      <td>78</td>\n",
       "      <td>83</td>\n",
       "      <td>80</td>\n",
       "      <td>69</td>\n",
       "      <td>66</td>\n",
       "      <td>72</td>\n",
       "      <td>79</td>\n",
       "      <td>83</td>\n",
       "      <td>83</td>\n",
       "      <td>84</td>\n",
       "    </tr>\n",
       "    <tr>\n",
       "      <th>2</th>\n",
       "      <td>28</td>\n",
       "      <td>37</td>\n",
       "      <td>38</td>\n",
       "      <td>42</td>\n",
       "      <td>44</td>\n",
       "      <td>40</td>\n",
       "      <td>40</td>\n",
       "      <td>24</td>\n",
       "      <td>32</td>\n",
       "      <td>43</td>\n",
       "      <td>...</td>\n",
       "      <td>53</td>\n",
       "      <td>39</td>\n",
       "      <td>59</td>\n",
       "      <td>42</td>\n",
       "      <td>44</td>\n",
       "      <td>48</td>\n",
       "      <td>38</td>\n",
       "      <td>28</td>\n",
       "      <td>37</td>\n",
       "      <td>46</td>\n",
       "    </tr>\n",
       "    <tr>\n",
       "      <th>3</th>\n",
       "      <td>170</td>\n",
       "      <td>168</td>\n",
       "      <td>177</td>\n",
       "      <td>183</td>\n",
       "      <td>181</td>\n",
       "      <td>177</td>\n",
       "      <td>181</td>\n",
       "      <td>184</td>\n",
       "      <td>189</td>\n",
       "      <td>189</td>\n",
       "      <td>...</td>\n",
       "      <td>92</td>\n",
       "      <td>88</td>\n",
       "      <td>85</td>\n",
       "      <td>82</td>\n",
       "      <td>83</td>\n",
       "      <td>79</td>\n",
       "      <td>78</td>\n",
       "      <td>82</td>\n",
       "      <td>78</td>\n",
       "      <td>80</td>\n",
       "    </tr>\n",
       "    <tr>\n",
       "      <th>4</th>\n",
       "      <td>159</td>\n",
       "      <td>150</td>\n",
       "      <td>153</td>\n",
       "      <td>154</td>\n",
       "      <td>138</td>\n",
       "      <td>184</td>\n",
       "      <td>154</td>\n",
       "      <td>77</td>\n",
       "      <td>61</td>\n",
       "      <td>64</td>\n",
       "      <td>...</td>\n",
       "      <td>15</td>\n",
       "      <td>18</td>\n",
       "      <td>16</td>\n",
       "      <td>12</td>\n",
       "      <td>13</td>\n",
       "      <td>16</td>\n",
       "      <td>14</td>\n",
       "      <td>14</td>\n",
       "      <td>17</td>\n",
       "      <td>19</td>\n",
       "    </tr>\n",
       "  </tbody>\n",
       "</table>\n",
       "<p>5 rows × 3072 columns</p>\n",
       "</div>"
      ],
      "text/plain": [
       "    59   43   50   68   98  119  139  145  149  149.1  ...  59.21  58.21  \\\n",
       "0  154  126  105  102  125  155  172  180  142    111  ...     22     42   \n",
       "1  255  253  253  253  253  253  253  253  253    253  ...     78     83   \n",
       "2   28   37   38   42   44   40   40   24   32     43  ...     53     39   \n",
       "3  170  168  177  183  181  177  181  184  189    189  ...     92     88   \n",
       "4  159  150  153  154  138  184  154   77   61     64  ...     15     18   \n",
       "\n",
       "   65.19  59.22  46.22  57.27  104.16  140.19  84.21  72.15  \n",
       "0     67    101    122    133     136     139    142    144  \n",
       "1     80     69     66     72      79      83     83     84  \n",
       "2     59     42     44     48      38      28     37     46  \n",
       "3     85     82     83     79      78      82     78     80  \n",
       "4     16     12     13     16      14      14     17     19  \n",
       "\n",
       "[5 rows x 3072 columns]"
      ]
     },
     "execution_count": 20,
     "metadata": {},
     "output_type": "execute_result"
    }
   ],
   "source": [
    "dataset.head()"
   ]
  },
  {
   "cell_type": "code",
   "execution_count": 21,
   "id": "c2cecc15",
   "metadata": {},
   "outputs": [
    {
     "data": {
      "text/plain": [
       "(9999, 3072)"
      ]
     },
     "execution_count": 21,
     "metadata": {},
     "output_type": "execute_result"
    }
   ],
   "source": [
    "dataset.shape"
   ]
  },
  {
   "cell_type": "markdown",
   "id": "6ad65c3c",
   "metadata": {},
   "source": [
    "### 2.1 Converting RGB Image into the grayscale image"
   ]
  },
  {
   "cell_type": "code",
   "execution_count": 22,
   "id": "5fcef144",
   "metadata": {},
   "outputs": [],
   "source": [
    "import numpy as np\n",
    "lst=[]\n",
    "bw=[]\n",
    "for i in range(len(dataset)):\n",
    "    row = dataset.iloc[i]\n",
    "\n",
    "    rgb_image = np.array(row).reshape(32, 32, 3)\n",
    "    lst.append(rgb_image)\n",
    "    bw_img = np.dot(rgb_image[...,:3], [0.2989, 0.5870, 0.1140])\n",
    "    bw.append(bw_img)\n",
    "\n",
    "bw = np.array(bw)"
   ]
  },
  {
   "cell_type": "markdown",
   "id": "b0f2ebb9",
   "metadata": {},
   "source": [
    "### 2.2 Dividing the data set into two sets"
   ]
  },
  {
   "cell_type": "code",
   "execution_count": 5,
   "id": "d374cf4a",
   "metadata": {},
   "outputs": [],
   "source": [
    "\n",
    "from sklearn.model_selection import train_test_split\n",
    "\n",
    "x_train, x_test = train_test_split(bw, test_size=0.3, random_state=42)\n",
    "y_train, y_test = train_test_split(y, test_size=0.3, random_state=42)\n",
    "\n",
    "from tensorflow.keras.utils import to_categorical\n",
    "\n"
   ]
  },
  {
   "cell_type": "markdown",
   "id": "faf8d070",
   "metadata": {},
   "source": [
    "### 2.3 Building the Convolutional Neural Network"
   ]
  },
  {
   "cell_type": "code",
   "execution_count": 33,
   "id": "319de9c3",
   "metadata": {},
   "outputs": [
    {
     "name": "stdout",
     "output_type": "stream",
     "text": [
      "Model: \"sequential_2\"\n",
      "_________________________________________________________________\n",
      " Layer (type)                Output Shape              Param #   \n",
      "=================================================================\n",
      " conv2d_8 (Conv2D)           (None, 30, 30, 32)        320       \n",
      "                                                                 \n",
      " max_pooling2d_8 (MaxPoolin  (None, 15, 15, 32)        0         \n",
      " g2D)                                                            \n",
      "                                                                 \n",
      " conv2d_9 (Conv2D)           (None, 15, 15, 64)        18496     \n",
      "                                                                 \n",
      " max_pooling2d_9 (MaxPoolin  (None, 7, 7, 64)          0         \n",
      " g2D)                                                            \n",
      "                                                                 \n",
      " conv2d_10 (Conv2D)          (None, 7, 7, 128)         73856     \n",
      "                                                                 \n",
      " max_pooling2d_10 (MaxPooli  (None, 3, 3, 128)         0         \n",
      " ng2D)                                                           \n",
      "                                                                 \n",
      " conv2d_11 (Conv2D)          (None, 3, 3, 512)         590336    \n",
      "                                                                 \n",
      " max_pooling2d_11 (MaxPooli  (None, 1, 1, 512)         0         \n",
      " ng2D)                                                           \n",
      "                                                                 \n",
      " flatten_2 (Flatten)         (None, 512)               0         \n",
      "                                                                 \n",
      " dense_6 (Dense)             (None, 64)                32832     \n",
      "                                                                 \n",
      " dense_7 (Dense)             (None, 64)                4160      \n",
      "                                                                 \n",
      " dense_8 (Dense)             (None, 10)                650       \n",
      "                                                                 \n",
      "=================================================================\n",
      "Total params: 720650 (2.75 MB)\n",
      "Trainable params: 720650 (2.75 MB)\n",
      "Non-trainable params: 0 (0.00 Byte)\n",
      "_________________________________________________________________\n"
     ]
    }
   ],
   "source": [
    "import tensorflow as tf\n",
    "from tensorflow.keras import layers, models\n",
    "\n",
    "\n",
    "model = models.Sequential()\n",
    "\n",
    "model.add(layers.Conv2D(32, (3, 3), activation='relu', input_shape=(32, 32, 1)))\n",
    "model.add(layers.MaxPooling2D((2, 2)))\n",
    "model.add(layers.Conv2D(64, (3, 3), activation='relu',padding='same'))\n",
    "model.add(layers.MaxPooling2D((2, 2)))\n",
    "model.add(layers.Conv2D(128, (3, 3), activation='relu',padding='same'))\n",
    "model.add(layers.MaxPooling2D((2, 2)))\n",
    "model.add(layers.Conv2D(512, (3, 3), activation='relu',padding='same'))\n",
    "model.add(layers.MaxPooling2D((2, 2)))\n",
    "\n",
    "model.add(layers.Flatten())\n",
    "\n",
    "model.add(layers.Dense(64, activation='relu'))\n",
    "model.add(layers.Dense(64, activation='relu'))\n",
    "\n",
    "model.add(layers.Dense(10, activation='softmax')) #op layer\n",
    "\n",
    "model.summary()"
   ]
  },
  {
   "cell_type": "markdown",
   "id": "e9fb6473",
   "metadata": {},
   "source": [
    "### 2.3) Compiling the model and fitting it\n",
    " ##### Using the adam optimizer and categorical crossentropy and accuracy as the metric"
   ]
  },
  {
   "cell_type": "code",
   "execution_count": 34,
   "id": "f2f3e343",
   "metadata": {},
   "outputs": [
    {
     "name": "stdout",
     "output_type": "stream",
     "text": [
      "Epoch 1/15\n",
      "175/175 [==============================] - 16s 69ms/step - loss: 2.5576 - accuracy: 0.1699 - val_loss: 2.0585 - val_accuracy: 0.2600\n",
      "Epoch 2/15\n",
      "175/175 [==============================] - 11s 65ms/step - loss: 1.9674 - accuracy: 0.2827 - val_loss: 1.9299 - val_accuracy: 0.2886\n",
      "Epoch 3/15\n",
      "175/175 [==============================] - 11s 62ms/step - loss: 1.8012 - accuracy: 0.3313 - val_loss: 1.8116 - val_accuracy: 0.3293\n",
      "Epoch 4/15\n",
      "175/175 [==============================] - 11s 63ms/step - loss: 1.6821 - accuracy: 0.3902 - val_loss: 1.7312 - val_accuracy: 0.3743\n",
      "Epoch 5/15\n",
      "175/175 [==============================] - 12s 66ms/step - loss: 1.6019 - accuracy: 0.4067 - val_loss: 1.6277 - val_accuracy: 0.4064\n",
      "Epoch 6/15\n",
      "175/175 [==============================] - 13s 76ms/step - loss: 1.5094 - accuracy: 0.4495 - val_loss: 1.6163 - val_accuracy: 0.4093\n",
      "Epoch 7/15\n",
      "175/175 [==============================] - 13s 73ms/step - loss: 1.4086 - accuracy: 0.4813 - val_loss: 1.6170 - val_accuracy: 0.4371\n",
      "Epoch 8/15\n",
      "175/175 [==============================] - 11s 62ms/step - loss: 1.3149 - accuracy: 0.5185 - val_loss: 1.6804 - val_accuracy: 0.4150\n",
      "Epoch 9/15\n",
      "175/175 [==============================] - 12s 69ms/step - loss: 1.2179 - accuracy: 0.5546 - val_loss: 1.7377 - val_accuracy: 0.4100\n",
      "Epoch 10/15\n",
      "175/175 [==============================] - 12s 67ms/step - loss: 1.1426 - accuracy: 0.5897 - val_loss: 1.7128 - val_accuracy: 0.4200\n",
      "Epoch 11/15\n",
      "175/175 [==============================] - 12s 66ms/step - loss: 1.0024 - accuracy: 0.6414 - val_loss: 1.8654 - val_accuracy: 0.4257\n",
      "Epoch 12/15\n",
      "175/175 [==============================] - 12s 68ms/step - loss: 0.8941 - accuracy: 0.6780 - val_loss: 1.7533 - val_accuracy: 0.4543\n",
      "Epoch 13/15\n",
      "175/175 [==============================] - 12s 66ms/step - loss: 0.7679 - accuracy: 0.7203 - val_loss: 1.9968 - val_accuracy: 0.4257\n",
      "Epoch 14/15\n",
      "175/175 [==============================] - 11s 65ms/step - loss: 0.6376 - accuracy: 0.7664 - val_loss: 2.1412 - val_accuracy: 0.4229\n",
      "Epoch 15/15\n",
      "175/175 [==============================] - 12s 69ms/step - loss: 0.5793 - accuracy: 0.7894 - val_loss: 2.2638 - val_accuracy: 0.4314\n",
      "Training Time: 181.11 seconds\n"
     ]
    }
   ],
   "source": [
    "import time\n",
    "\n",
    "start_time = time.time()\n",
    "model.compile(optimizer='adam',\n",
    "              loss='sparse_categorical_crossentropy', #sys loss fun\n",
    "              metrics=['accuracy'])\n",
    "\n",
    "history=model.fit(x_train, y_train, epochs=15, batch_size=32, validation_split=0.2) # stop criteria\n",
    "end_time = time.time()\n",
    "execution_time = end_time - start_time\n",
    "\n",
    "print(f\"Training Time: {execution_time:.2f} seconds\")"
   ]
  },
  {
   "cell_type": "markdown",
   "id": "7061488b",
   "metadata": {},
   "source": [
    "### Plotting the graph"
   ]
  },
  {
   "cell_type": "code",
   "execution_count": 35,
   "id": "0c2de438",
   "metadata": {},
   "outputs": [
    {
     "data": {
      "image/png": "[encoded data removed]",
      "text/plain": [
       "<Figure size 1200x400 with 1 Axes>"
      ]
     },
     "metadata": {},
     "output_type": "display_data"
    }
   ],
   "source": [
    "import matplotlib.pyplot as plt\n",
    "plt.figure(figsize=(12, 4))\n",
    "plt.subplot(1, 2, 1)\n",
    "plt.plot(history.history['val_loss'], label='Loss')\n",
    "plt.title('Loss')\n",
    "plt.xlabel('Epoch')\n",
    "plt.ylabel('Loss')\n",
    "plt.legend()\n",
    "\n",
    "plt.tight_layout()\n",
    "plt.show()"
   ]
  },
  {
   "cell_type": "markdown",
   "id": "d1cca946",
   "metadata": {},
   "source": [
    "### 2.5 Testing Procedure\n",
    "Evaluating the classifier by the accuracy measurement on X_test.\n",
    "\n",
    "$$\n",
    "ACC_{D_{test}} = \\frac{1}{|D_{test}|} \\sum_{i=1}^{|D_{test}|} L(\\hat{y}_i, y_i)\n",
    "$$\n",
    "\n",
    "where $\\hat{y}_i$ is the assigned class label by the classifier and $y_i$ is the true class label of a data instance $x_i$ in $D_{test}$, and $|D_{test}|$ is the number of data instances in $D_{test}$.\n",
    "\n",
    "$L(\\hat{y}_i, y_i) = \\begin{cases} 1 & \\text{if } \\hat{y}_i = y_i \\\\ 0 & \\text{if } \\hat{y}_i \\neq y_i \\end{cases}$\n"
   ]
  },
  {
   "cell_type": "code",
   "execution_count": 36,
   "id": "9367c11c",
   "metadata": {},
   "outputs": [
    {
     "data": {
      "text/plain": [
       "<keras.src.callbacks.History at 0x1c6215eac10>"
      ]
     },
     "execution_count": 36,
     "metadata": {},
     "output_type": "execute_result"
    }
   ],
   "source": [
    "history"
   ]
  },
  {
   "cell_type": "code",
   "execution_count": 37,
   "id": "d322b23f",
   "metadata": {},
   "outputs": [
    {
     "name": "stdout",
     "output_type": "stream",
     "text": [
      "94/94 [==============================] - 2s 16ms/step\n",
      "Total Correct Predictions: 6    1352\n",
      "dtype: int64\n",
      "Total Number of Actual Samples: 3000\n",
      "Accuracy: 45.07%\n"
     ]
    }
   ],
   "source": [
    "\n",
    "y_pred_probs = model.predict(x_test)\n",
    "\n",
    "y_pred_labels = np.argmax(y_pred_probs, axis=1)\n",
    "\n",
    "\n",
    "y_pred_labels = pd.DataFrame(y_pred_labels,columns=[\"6\"])\n",
    "\n",
    "\n",
    "y_test, y_pred_labels = y_test.align(y_pred_labels, axis=1)\n",
    "\n",
    "\n",
    "y_test = y_test.reset_index(drop=True)\n",
    "y_pred_labels = y_pred_labels.reset_index(drop=True)\n",
    "\n",
    "\n",
    "total_correct = np.sum(y_pred_labels == y_test)\n",
    "\n",
    "\n",
    "total_samples = len(y_pred_labels)\n",
    "\n",
    "accuracy = total_correct[0]/ (total_samples)\n",
    "\n",
    "print(f\"Total Correct Predictions: {total_correct}\")\n",
    "print(f\"Total Number of Actual Samples: {total_samples}\")\n",
    "print(f\"Accuracy: {accuracy * 100:.2f}%\")"
   ]
  },
  {
   "cell_type": "code",
   "execution_count": 38,
   "id": "aa0ca73c",
   "metadata": {},
   "outputs": [
    {
     "data": {
      "image/png": "[encoded data removed]",
      "text/plain": [
       "<Figure size 1200x500 with 2 Axes>"
      ]
     },
     "metadata": {},
     "output_type": "display_data"
    }
   ],
   "source": [
    "import matplotlib.pyplot as plt\n",
    "\n",
    "# Plotting training and validation accuracy\n",
    "plt.figure(figsize=(12, 5))\n",
    "plt.subplot(1, 2, 1)\n",
    "plt.plot(history.history['accuracy'], label='Training Accuracy')\n",
    "plt.plot(history.history['val_accuracy'], label='Validation Accuracy')\n",
    "plt.title('Training and Validation Accuracy')\n",
    "plt.xlabel('Epoch')\n",
    "plt.ylabel('Accuracy')\n",
    "plt.legend()\n",
    "\n",
    "# Plotting training and validation loss\n",
    "plt.subplot(1, 2, 2)\n",
    "plt.plot(history.history['loss'], label='Training Loss')\n",
    "plt.plot(history.history['val_loss'], label='Validation Loss')\n",
    "plt.title('Training and Validation Loss')\n",
    "plt.xlabel('Epoch')\n",
    "plt.ylabel('Loss')\n",
    "plt.legend()\n",
    "\n",
    "plt.show()"
   ]
  },
  {
   "cell_type": "code",
   "execution_count": null,
   "id": "ce178a1f",
   "metadata": {},
   "outputs": [],
   "source": []
  }
 ],
 "metadata": {
  "kernelspec": {
   "display_name": "Python 3 (ipykernel)",
   "language": "python",
   "name": "python3"
  },
  "language_info": {
   "codemirror_mode": {
    "name": "ipython",
    "version": 3
   },
   "file_extension": ".py",
   "mimetype": "text/x-python",
   "name": "python",
   "nbconvert_exporter": "python",
   "pygments_lexer": "ipython3",
   "version": "3.11.5"
  }
 },
 "nbformat": 4,
 "nbformat_minor": 5
}
